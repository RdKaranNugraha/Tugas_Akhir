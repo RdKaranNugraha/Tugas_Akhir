{
 "cells": [
  {
   "cell_type": "code",
   "execution_count": 207,
   "id": "263106d2",
   "metadata": {},
   "outputs": [],
   "source": [
    "from tensorflow import keras\n",
    "import numpy as np\n",
    "import matplotlib.pyplot as plt\n",
    "import pandas as pd\n",
    "from sklearn.model_selection import train_test_split\n",
    "from sklearn.pipeline import Pipeline\n",
    "\n",
    "from sktime.classification.compose import ColumnEnsembleClassifier\n",
    "from sktime.classification.dictionary_based import BOSSEnsemble\n",
    "from sktime.classification.interval_based import TimeSeriesForestClassifier\n",
    "from sktime.transformations.panel.compose import ColumnConcatenator"
   ]
  },
  {
   "cell_type": "code",
   "execution_count": 208,
   "id": "fe4909d4",
   "metadata": {},
   "outputs": [
    {
     "data": {
      "text/plain": [
       "'\\n## Load the data: the FordA dataset\\n\\n### Dataset description\\n\\nThe dataset we are using here is called FordA.\\nThe data comes from the UCR archive.\\nThe dataset contains 3601 training instances and another 1320 testing instances.\\nEach timeseries corresponds to a measurement of engine noise captured by a motor sensor.\\nFor this task, the goal is to automatically detect the presence of a specific issue with\\nthe engine. The problem is a balanced binary classification task. The full description of\\nthis dataset can be found [here](http://www.j-wichard.de/publications/FordPaper.pdf).\\n\\n### Read the TSV data\\n\\nWe will use the `FordA_TRAIN` file for training and the\\n`FordA_TEST` file for testing. The simplicity of this dataset\\nallows us to demonstrate effectively how to use ConvNets for timeseries classification.\\nIn this file, the first column corresponds to the label.\\n'"
      ]
     },
     "execution_count": 208,
     "metadata": {},
     "output_type": "execute_result"
    }
   ],
   "source": [
    "\"\"\"\n",
    "## Load the data: the FordA dataset\n",
    "\n",
    "### Dataset description\n",
    "\n",
    "The dataset we are using here is called FordA.\n",
    "The data comes from the UCR archive.\n",
    "The dataset contains 3601 training instances and another 1320 testing instances.\n",
    "Each timeseries corresponds to a measurement of engine noise captured by a motor sensor.\n",
    "For this task, the goal is to automatically detect the presence of a specific issue with\n",
    "the engine. The problem is a balanced binary classification task. The full description of\n",
    "this dataset can be found [here](http://www.j-wichard.de/publications/FordPaper.pdf).\n",
    "\n",
    "### Read the TSV data\n",
    "\n",
    "We will use the `FordA_TRAIN` file for training and the\n",
    "`FordA_TEST` file for testing. The simplicity of this dataset\n",
    "allows us to demonstrate effectively how to use ConvNets for timeseries classification.\n",
    "In this file, the first column corresponds to the label.\n",
    "\"\"\""
   ]
  },
  {
   "cell_type": "code",
   "execution_count": null,
   "id": "6471dda0",
   "metadata": {},
   "outputs": [],
   "source": [
    "def readucr(filename):\n",
    "    data = np.loadtxt(filename, delimiter=\"\\t\")\n",
    "    y = data[:, 0]\n",
    "    x = data[:, 1:]\n",
    "    return x, y.astype(int)\n",
    "\n",
    "\n",
    "root_url = \"./Klasifikasi/2/\"\n",
    "\n",
    "x_train, y_train = readucr(root_url + \"FordA_TRAIN.tsv\")\n",
    "x_test, y_test = readucr(root_url + \"FordA_TEST.tsv\")\n",
    "\n",
    "\n",
    "#with open(\"./Klasifikasi/1/Accelerometer.csv\") as file_name:\n",
    "#    x_train1 = np.loadtxt(file_name, delimiter=\",\", skiprows=1, unpack=True, encoding=\"utf-8-sig\")\n",
    "\n",
    "data_raw_acc  = pd.read_csv(\"./Klasifikasi/1/Accelerometer.csv\", nrows=25)\n",
    "data_raw_acc.head()\n",
    "data = data_raw_acc.to_numpy()\n",
    "\n",
    "y_train = data[:, 0]\n",
    "x_train = data[:, 7]\n",
    "\n",
    "y_test = data[:, 0]\n",
    "x_test = data[:, 7]\n"
   ]
  },
  {
   "cell_type": "code",
   "execution_count": 220,
   "id": "001c1b7a",
   "metadata": {},
   "outputs": [
    {
     "data": {
      "text/plain": [
       "'\\n## Visualize the data\\n\\nHere we visualize one timeseries example for each class in the dataset.\\n\\n'"
      ]
     },
     "execution_count": 220,
     "metadata": {},
     "output_type": "execute_result"
    }
   ],
   "source": [
    "\"\"\"\n",
    "## Visualize the data\n",
    "\n",
    "Here we visualize one timeseries example for each class in the dataset.\n",
    "\n",
    "\"\"\""
   ]
  },
  {
   "cell_type": "code",
   "execution_count": null,
   "id": "7c69230d",
   "metadata": {},
   "outputs": [],
   "source": [
    "classes = np.unique(np.concatenate((y_train, y_test), axis=0))\n",
    "\n",
    "plt.figure()\n",
    "for c in classes:\n",
    "    c_x_train = x_train[y_train == c]\n",
    "    plt.plot(c_x_train[0], label=\"class \" + str(c))\n",
    "plt.legend(loc=\"best\")\n",
    "plt.show()\n",
    "plt.close()"
   ]
  },
  {
   "cell_type": "code",
   "execution_count": 194,
   "id": "76c6a494",
   "metadata": {},
   "outputs": [
    {
     "data": {
      "text/plain": [
       "'\\n## Standardize the data\\n\\nOur timeseries are already in a single length (500). However, their values are\\nusually in various ranges. This is not ideal for a neural network;\\nin general we should seek to make the input values normalized.\\nFor this specific dataset, the data is already z-normalized: each timeseries sample\\nhas a mean equal to zero and a standard deviation equal to one. This type of\\nnormalization is very common for timeseries classification problems, see\\n[Bagnall et al. (2016)](https://link.springer.com/article/10.1007/s10618-016-0483-9).\\n\\nNote that the timeseries data used here are univariate, meaning we only have one channel\\nper timeseries example.\\nWe will therefore transform the timeseries into a multivariate one with one channel\\nusing a simple reshaping via numpy.\\nThis will allow us to construct a model that is easily applicable to multivariate time\\nseries.\\n'"
      ]
     },
     "execution_count": 194,
     "metadata": {},
     "output_type": "execute_result"
    }
   ],
   "source": [
    "\"\"\"\n",
    "## Standardize the data\n",
    "\n",
    "Our timeseries are already in a single length (500). However, their values are\n",
    "usually in various ranges. This is not ideal for a neural network;\n",
    "in general we should seek to make the input values normalized.\n",
    "For this specific dataset, the data is already z-normalized: each timeseries sample\n",
    "has a mean equal to zero and a standard deviation equal to one. This type of\n",
    "normalization is very common for timeseries classification problems, see\n",
    "[Bagnall et al. (2016)](https://link.springer.com/article/10.1007/s10618-016-0483-9).\n",
    "\n",
    "Note that the timeseries data used here are univariate, meaning we only have one channel\n",
    "per timeseries example.\n",
    "We will therefore transform the timeseries into a multivariate one with one channel\n",
    "using a simple reshaping via numpy.\n",
    "This will allow us to construct a model that is easily applicable to multivariate time\n",
    "series.\n",
    "\"\"\""
   ]
  },
  {
   "cell_type": "code",
   "execution_count": 22,
   "id": "1fb53c72",
   "metadata": {},
   "outputs": [
    {
     "data": {
      "text/plain": [
       "array([[[-0.14040239],\n",
       "        [ 0.17164128],\n",
       "        [ 0.30204415],\n",
       "        ...,\n",
       "        [-0.69040244],\n",
       "        [-0.97659635],\n",
       "        [-0.79426313]],\n",
       "\n",
       "       [[ 0.33403756],\n",
       "        [ 0.32225332],\n",
       "        [ 0.45384397],\n",
       "        ...,\n",
       "        [-1.0417721 ],\n",
       "        [-1.1596145 ],\n",
       "        [-1.3756589 ]],\n",
       "\n",
       "       [[ 0.71668608],\n",
       "        [ 0.74436655],\n",
       "        [ 0.72591291],\n",
       "        ...,\n",
       "        [-3.6752806 ],\n",
       "        [-4.1366217 ],\n",
       "        [-4.3396117 ]],\n",
       "\n",
       "       ...,\n",
       "\n",
       "       [[ 0.71008362],\n",
       "        [ 0.59397882],\n",
       "        [ 0.3818858 ],\n",
       "        ...,\n",
       "        [-0.12655282],\n",
       "        [-0.11782239],\n",
       "        [-0.18909413]],\n",
       "\n",
       "       [[ 0.00684706],\n",
       "        [-0.14062427],\n",
       "        [-0.27059412],\n",
       "        ...,\n",
       "        [-1.0007084 ],\n",
       "        [-1.0841075 ],\n",
       "        [-1.109963  ]],\n",
       "\n",
       "       [[-0.54135529],\n",
       "        [-0.24172258],\n",
       "        [ 0.10074086],\n",
       "        ...,\n",
       "        [-0.09362504],\n",
       "        [-0.90080431],\n",
       "        [-1.778341  ]]])"
      ]
     },
     "execution_count": 22,
     "metadata": {},
     "output_type": "execute_result"
    }
   ],
   "source": [
    "x_train = x_train.reshape((x_train.shape[0], x_train.shape[1], 1))\n",
    "x_test = x_test.reshape((x_test.shape[0], x_test.shape[1], 1))"
   ]
  },
  {
   "cell_type": "code",
   "execution_count": 24,
   "id": "65c08499",
   "metadata": {},
   "outputs": [
    {
     "data": {
      "text/plain": [
       "array([-1,  1, -1, ..., -1,  1, -1])"
      ]
     },
     "execution_count": 24,
     "metadata": {},
     "output_type": "execute_result"
    }
   ],
   "source": [
    "num_classes = len(np.unique(y_train))"
   ]
  },
  {
   "cell_type": "code",
   "execution_count": 27,
   "id": "83971246",
   "metadata": {},
   "outputs": [
    {
     "data": {
      "text/plain": [
       "array([[[ 0.48896567],\n",
       "        [ 0.22969711],\n",
       "        [-0.02583727],\n",
       "        ...,\n",
       "        [-0.73993374],\n",
       "        [-0.06601819],\n",
       "        [ 0.63086585]],\n",
       "\n",
       "       [[-0.54225835],\n",
       "        [-0.79869769],\n",
       "        [-1.0258229 ],\n",
       "        ...,\n",
       "        [-0.01246434],\n",
       "        [-0.18851697],\n",
       "        [-0.32358465]],\n",
       "\n",
       "       [[-1.3333919 ],\n",
       "        [-1.6023029 ],\n",
       "        [-1.7833697 ],\n",
       "        ...,\n",
       "        [ 1.9419443 ],\n",
       "        [ 2.0853635 ],\n",
       "        [ 2.0674361 ]],\n",
       "\n",
       "       ...,\n",
       "\n",
       "       [[ 0.75225281],\n",
       "        [ 1.2944761 ],\n",
       "        [ 1.6891547 ],\n",
       "        ...,\n",
       "        [-1.1874802 ],\n",
       "        [-1.2294415 ],\n",
       "        [-1.1575499 ]],\n",
       "\n",
       "       [[-0.33359284],\n",
       "        [-0.28347108],\n",
       "        [-0.26092023],\n",
       "        ...,\n",
       "        [-0.39013473],\n",
       "        [-0.64120668],\n",
       "        [-0.90252032]],\n",
       "\n",
       "       [[-0.35267542],\n",
       "        [-0.09838099],\n",
       "        [ 0.1097703 ],\n",
       "        ...,\n",
       "        [-1.5226677 ],\n",
       "        [-1.3972264 ],\n",
       "        [-1.1306138 ]]])"
      ]
     },
     "execution_count": 27,
     "metadata": {},
     "output_type": "execute_result"
    }
   ],
   "source": [
    "idx = np.random.permutation(len(x_train))\n",
    "x_train = x_train[idx]\n",
    "y_train = y_train[idx]"
   ]
  },
  {
   "cell_type": "code",
   "execution_count": 26,
   "id": "0793190b",
   "metadata": {},
   "outputs": [],
   "source": [
    "y_train[y_train == -1] = 0\n",
    "y_test[y_test == -1] = 0"
   ]
  },
  {
   "cell_type": "code",
   "execution_count": null,
   "id": "a2d118c0",
   "metadata": {},
   "outputs": [],
   "source": [
    "\"\"\"\n",
    "## Build a model\n",
    "\n",
    "We build a Fully Convolutional Neural Network originally proposed in\n",
    "[this paper](https://arxiv.org/abs/1611.06455).\n",
    "The implementation is based on the TF 2 version provided\n",
    "[here](https://github.com/hfawaz/dl-4-tsc/).\n",
    "The following hyperparameters (kernel_size, filters, the usage of BatchNorm) were found\n",
    "via random search using [KerasTuner](https://github.com/keras-team/keras-tuner).\n",
    "\n",
    "\"\"\""
   ]
  },
  {
   "cell_type": "code",
   "execution_count": 11,
   "id": "6a595031",
   "metadata": {},
   "outputs": [
    {
     "name": "stdout",
     "output_type": "stream",
     "text": [
      "You must install pydot (`pip install pydot`) and install graphviz (see instructions at https://graphviz.gitlab.io/download/) for plot_model/model_to_dot to work.\n"
     ]
    }
   ],
   "source": [
    "def make_model(input_shape):\n",
    "    input_layer = keras.layers.Input(input_shape)\n",
    "\n",
    "    conv1 = keras.layers.Conv1D(filters=64, kernel_size=3, padding=\"same\")(input_layer)\n",
    "    conv1 = keras.layers.BatchNormalization()(conv1)\n",
    "    conv1 = keras.layers.ReLU()(conv1)\n",
    "\n",
    "    conv2 = keras.layers.Conv1D(filters=64, kernel_size=3, padding=\"same\")(conv1)\n",
    "    conv2 = keras.layers.BatchNormalization()(conv2)\n",
    "    conv2 = keras.layers.ReLU()(conv2)\n",
    "\n",
    "    conv3 = keras.layers.Conv1D(filters=64, kernel_size=3, padding=\"same\")(conv2)\n",
    "    conv3 = keras.layers.BatchNormalization()(conv3)\n",
    "    conv3 = keras.layers.ReLU()(conv3)\n",
    "\n",
    "    gap = keras.layers.GlobalAveragePooling1D()(conv3)\n",
    "\n",
    "    output_layer = keras.layers.Dense(num_classes, activation=\"softmax\")(gap)\n",
    "\n",
    "    return keras.models.Model(inputs=input_layer, outputs=output_layer)\n",
    "\n",
    "\n",
    "model = make_model(input_shape=x_train.shape[1:])\n",
    "keras.utils.plot_model(model, show_shapes=True)"
   ]
  },
  {
   "cell_type": "code",
   "execution_count": 13,
   "id": "c71ee6b8",
   "metadata": {},
   "outputs": [
    {
     "name": "stdout",
     "output_type": "stream",
     "text": [
      "Epoch 1/50\n",
      "90/90 [==============================] - 11s 109ms/step - loss: 0.3333 - sparse_categorical_accuracy: 0.8490 - val_loss: 0.3798 - val_sparse_categorical_accuracy: 0.7476 - lr: 0.0010\n",
      "Epoch 2/50\n",
      "90/90 [==============================] - 10s 114ms/step - loss: 0.3117 - sparse_categorical_accuracy: 0.8674 - val_loss: 0.3174 - val_sparse_categorical_accuracy: 0.8294 - lr: 0.0010\n",
      "Epoch 3/50\n",
      "90/90 [==============================] - 10s 113ms/step - loss: 0.2978 - sparse_categorical_accuracy: 0.8733 - val_loss: 0.2924 - val_sparse_categorical_accuracy: 0.8599 - lr: 0.0010\n",
      "Epoch 4/50\n",
      "90/90 [==============================] - 10s 108ms/step - loss: 0.3074 - sparse_categorical_accuracy: 0.8653 - val_loss: 0.4653 - val_sparse_categorical_accuracy: 0.7157 - lr: 0.0010\n",
      "Epoch 5/50\n",
      "90/90 [==============================] - 10s 110ms/step - loss: 0.2987 - sparse_categorical_accuracy: 0.8778 - val_loss: 0.3332 - val_sparse_categorical_accuracy: 0.8141 - lr: 0.0010\n",
      "Epoch 6/50\n",
      "90/90 [==============================] - 10s 111ms/step - loss: 0.2994 - sparse_categorical_accuracy: 0.8774 - val_loss: 0.5403 - val_sparse_categorical_accuracy: 0.7268 - lr: 0.0010\n",
      "Epoch 7/50\n",
      "90/90 [==============================] - 10s 111ms/step - loss: 0.2935 - sparse_categorical_accuracy: 0.8767 - val_loss: 0.2978 - val_sparse_categorical_accuracy: 0.8419 - lr: 0.0010\n",
      "Epoch 8/50\n",
      "90/90 [==============================] - 10s 112ms/step - loss: 0.2857 - sparse_categorical_accuracy: 0.8847 - val_loss: 0.4586 - val_sparse_categorical_accuracy: 0.7406 - lr: 0.0010\n",
      "Epoch 9/50\n",
      "90/90 [==============================] - 10s 112ms/step - loss: 0.2851 - sparse_categorical_accuracy: 0.8802 - val_loss: 0.5196 - val_sparse_categorical_accuracy: 0.7018 - lr: 0.0010\n",
      "Epoch 10/50\n",
      "90/90 [==============================] - 10s 112ms/step - loss: 0.2646 - sparse_categorical_accuracy: 0.8951 - val_loss: 0.2497 - val_sparse_categorical_accuracy: 0.9029 - lr: 0.0010\n",
      "Epoch 11/50\n",
      "90/90 [==============================] - 10s 112ms/step - loss: 0.2684 - sparse_categorical_accuracy: 0.8861 - val_loss: 0.4332 - val_sparse_categorical_accuracy: 0.7878 - lr: 0.0010\n",
      "Epoch 12/50\n",
      "90/90 [==============================] - 10s 112ms/step - loss: 0.2667 - sparse_categorical_accuracy: 0.8875 - val_loss: 0.7658 - val_sparse_categorical_accuracy: 0.6630 - lr: 0.0010\n",
      "Epoch 13/50\n",
      "90/90 [==============================] - 10s 111ms/step - loss: 0.2966 - sparse_categorical_accuracy: 0.8660 - val_loss: 0.5409 - val_sparse_categorical_accuracy: 0.7559 - lr: 0.0010\n",
      "Epoch 14/50\n",
      "90/90 [==============================] - 10s 112ms/step - loss: 0.2678 - sparse_categorical_accuracy: 0.8951 - val_loss: 0.4134 - val_sparse_categorical_accuracy: 0.8017 - lr: 0.0010\n",
      "Epoch 15/50\n",
      "90/90 [==============================] - 10s 112ms/step - loss: 0.2630 - sparse_categorical_accuracy: 0.8948 - val_loss: 0.2484 - val_sparse_categorical_accuracy: 0.9085 - lr: 0.0010\n",
      "Epoch 16/50\n",
      "90/90 [==============================] - 10s 112ms/step - loss: 0.2638 - sparse_categorical_accuracy: 0.8906 - val_loss: 0.3760 - val_sparse_categorical_accuracy: 0.8433 - lr: 0.0010\n",
      "Epoch 17/50\n",
      "90/90 [==============================] - 10s 112ms/step - loss: 0.2707 - sparse_categorical_accuracy: 0.8889 - val_loss: 0.3273 - val_sparse_categorical_accuracy: 0.8294 - lr: 0.0010\n",
      "Epoch 18/50\n",
      "90/90 [==============================] - 10s 112ms/step - loss: 0.2631 - sparse_categorical_accuracy: 0.8931 - val_loss: 0.2854 - val_sparse_categorical_accuracy: 0.8779 - lr: 0.0010\n",
      "Epoch 19/50\n",
      "90/90 [==============================] - 10s 114ms/step - loss: 0.2582 - sparse_categorical_accuracy: 0.8906 - val_loss: 0.3715 - val_sparse_categorical_accuracy: 0.8225 - lr: 0.0010\n",
      "Epoch 20/50\n",
      "90/90 [==============================] - 10s 113ms/step - loss: 0.2539 - sparse_categorical_accuracy: 0.9024 - val_loss: 0.2438 - val_sparse_categorical_accuracy: 0.9071 - lr: 0.0010\n",
      "Epoch 21/50\n",
      "90/90 [==============================] - 10s 114ms/step - loss: 0.2518 - sparse_categorical_accuracy: 0.9010 - val_loss: 0.2690 - val_sparse_categorical_accuracy: 0.8779 - lr: 0.0010\n",
      "Epoch 22/50\n",
      "90/90 [==============================] - 10s 111ms/step - loss: 0.2688 - sparse_categorical_accuracy: 0.8854 - val_loss: 0.4226 - val_sparse_categorical_accuracy: 0.7698 - lr: 0.0010\n",
      "Epoch 23/50\n",
      "90/90 [==============================] - 10s 112ms/step - loss: 0.2534 - sparse_categorical_accuracy: 0.8986 - val_loss: 0.2331 - val_sparse_categorical_accuracy: 0.9057 - lr: 0.0010\n",
      "Epoch 24/50\n",
      "90/90 [==============================] - 10s 111ms/step - loss: 0.2418 - sparse_categorical_accuracy: 0.8986 - val_loss: 0.2510 - val_sparse_categorical_accuracy: 0.8890 - lr: 0.0010\n",
      "Epoch 25/50\n",
      "90/90 [==============================] - 10s 112ms/step - loss: 0.2430 - sparse_categorical_accuracy: 0.8990 - val_loss: 0.4891 - val_sparse_categorical_accuracy: 0.7462 - lr: 0.0010\n",
      "Epoch 26/50\n",
      "90/90 [==============================] - 10s 112ms/step - loss: 0.2467 - sparse_categorical_accuracy: 0.8993 - val_loss: 0.3235 - val_sparse_categorical_accuracy: 0.8419 - lr: 0.0010\n",
      "Epoch 27/50\n",
      "90/90 [==============================] - 10s 112ms/step - loss: 0.2477 - sparse_categorical_accuracy: 0.8979 - val_loss: 0.3414 - val_sparse_categorical_accuracy: 0.8544 - lr: 0.0010\n",
      "Epoch 28/50\n",
      "90/90 [==============================] - 10s 113ms/step - loss: 0.2501 - sparse_categorical_accuracy: 0.8969 - val_loss: 0.7391 - val_sparse_categorical_accuracy: 0.7129 - lr: 0.0010\n",
      "Epoch 29/50\n",
      "90/90 [==============================] - 10s 113ms/step - loss: 0.2529 - sparse_categorical_accuracy: 0.8951 - val_loss: 0.2537 - val_sparse_categorical_accuracy: 0.8932 - lr: 0.0010\n",
      "Epoch 30/50\n",
      "90/90 [==============================] - 10s 112ms/step - loss: 0.2416 - sparse_categorical_accuracy: 0.9003 - val_loss: 0.4006 - val_sparse_categorical_accuracy: 0.7947 - lr: 0.0010\n",
      "Epoch 31/50\n",
      "90/90 [==============================] - 10s 114ms/step - loss: 0.2449 - sparse_categorical_accuracy: 0.8976 - val_loss: 0.3562 - val_sparse_categorical_accuracy: 0.8571 - lr: 0.0010\n",
      "Epoch 32/50\n",
      "90/90 [==============================] - 10s 114ms/step - loss: 0.2447 - sparse_categorical_accuracy: 0.8993 - val_loss: 0.3262 - val_sparse_categorical_accuracy: 0.8627 - lr: 0.0010\n",
      "Epoch 33/50\n",
      "90/90 [==============================] - 10s 113ms/step - loss: 0.2450 - sparse_categorical_accuracy: 0.8951 - val_loss: 0.3266 - val_sparse_categorical_accuracy: 0.8308 - lr: 0.0010\n",
      "Epoch 34/50\n",
      "90/90 [==============================] - 10s 114ms/step - loss: 0.2320 - sparse_categorical_accuracy: 0.9052 - val_loss: 0.2526 - val_sparse_categorical_accuracy: 0.8988 - lr: 0.0010\n",
      "Epoch 35/50\n",
      "90/90 [==============================] - 11s 120ms/step - loss: 0.2321 - sparse_categorical_accuracy: 0.9038 - val_loss: 0.2528 - val_sparse_categorical_accuracy: 0.8835 - lr: 0.0010\n",
      "Epoch 36/50\n",
      "90/90 [==============================] - 11s 124ms/step - loss: 0.2305 - sparse_categorical_accuracy: 0.9038 - val_loss: 0.2506 - val_sparse_categorical_accuracy: 0.8960 - lr: 0.0010\n",
      "Epoch 37/50\n",
      "90/90 [==============================] - 10s 114ms/step - loss: 0.2205 - sparse_categorical_accuracy: 0.9097 - val_loss: 0.2582 - val_sparse_categorical_accuracy: 0.8974 - lr: 0.0010\n",
      "Epoch 38/50\n",
      "90/90 [==============================] - 10s 113ms/step - loss: 0.2280 - sparse_categorical_accuracy: 0.9104 - val_loss: 0.3187 - val_sparse_categorical_accuracy: 0.8571 - lr: 0.0010\n",
      "Epoch 39/50\n",
      "90/90 [==============================] - 10s 113ms/step - loss: 0.2234 - sparse_categorical_accuracy: 0.9115 - val_loss: 0.4857 - val_sparse_categorical_accuracy: 0.7725 - lr: 0.0010\n",
      "Epoch 40/50\n",
      "90/90 [==============================] - 10s 112ms/step - loss: 0.2169 - sparse_categorical_accuracy: 0.9101 - val_loss: 0.2796 - val_sparse_categorical_accuracy: 0.8752 - lr: 0.0010\n",
      "Epoch 41/50\n",
      "90/90 [==============================] - 10s 114ms/step - loss: 0.2309 - sparse_categorical_accuracy: 0.9062 - val_loss: 0.2196 - val_sparse_categorical_accuracy: 0.9098 - lr: 0.0010\n",
      "Epoch 42/50\n",
      "90/90 [==============================] - 10s 113ms/step - loss: 0.2139 - sparse_categorical_accuracy: 0.9167 - val_loss: 0.5859 - val_sparse_categorical_accuracy: 0.7379 - lr: 0.0010\n",
      "Epoch 43/50\n"
     ]
    },
    {
     "name": "stdout",
     "output_type": "stream",
     "text": [
      "90/90 [==============================] - 10s 109ms/step - loss: 0.2152 - sparse_categorical_accuracy: 0.9122 - val_loss: 0.5422 - val_sparse_categorical_accuracy: 0.7434 - lr: 0.0010\n",
      "Epoch 44/50\n",
      "90/90 [==============================] - 10s 109ms/step - loss: 0.2014 - sparse_categorical_accuracy: 0.9181 - val_loss: 0.2216 - val_sparse_categorical_accuracy: 0.9015 - lr: 0.0010\n",
      "Epoch 45/50\n",
      "90/90 [==============================] - 10s 110ms/step - loss: 0.2015 - sparse_categorical_accuracy: 0.9170 - val_loss: 0.2075 - val_sparse_categorical_accuracy: 0.9112 - lr: 0.0010\n",
      "Epoch 46/50\n",
      "90/90 [==============================] - 10s 108ms/step - loss: 0.1964 - sparse_categorical_accuracy: 0.9215 - val_loss: 0.5155 - val_sparse_categorical_accuracy: 0.7517 - lr: 0.0010\n",
      "Epoch 47/50\n",
      "90/90 [==============================] - 10s 109ms/step - loss: 0.1850 - sparse_categorical_accuracy: 0.9340 - val_loss: 0.1856 - val_sparse_categorical_accuracy: 0.9307 - lr: 0.0010\n",
      "Epoch 48/50\n",
      "90/90 [==============================] - 10s 109ms/step - loss: 0.1663 - sparse_categorical_accuracy: 0.9347 - val_loss: 0.5609 - val_sparse_categorical_accuracy: 0.7698 - lr: 0.0010\n",
      "Epoch 49/50\n",
      "90/90 [==============================] - 10s 109ms/step - loss: 0.1842 - sparse_categorical_accuracy: 0.9330 - val_loss: 0.3697 - val_sparse_categorical_accuracy: 0.8322 - lr: 0.0010\n",
      "Epoch 50/50\n",
      "90/90 [==============================] - 10s 109ms/step - loss: 0.1499 - sparse_categorical_accuracy: 0.9497 - val_loss: 0.3957 - val_sparse_categorical_accuracy: 0.8086 - lr: 0.0010\n"
     ]
    }
   ],
   "source": [
    "## Train the model\n",
    "epochs = 50\n",
    "batch_size = 32\n",
    "\n",
    "callbacks = [\n",
    "    keras.callbacks.ModelCheckpoint(\n",
    "        \"best_model.h5\", save_best_only=True, monitor=\"val_loss\"\n",
    "    ),\n",
    "    keras.callbacks.ReduceLROnPlateau(\n",
    "        monitor=\"val_loss\", factor=0.5, patience=20, min_lr=0.0001\n",
    "    ),\n",
    "    keras.callbacks.EarlyStopping(monitor=\"val_loss\", patience=50, verbose=1),\n",
    "]\n",
    "model.compile(\n",
    "    optimizer=\"adam\",\n",
    "    loss=\"sparse_categorical_crossentropy\",\n",
    "    metrics=[\"sparse_categorical_accuracy\"],\n",
    ")\n",
    "history = model.fit(\n",
    "    x_train,\n",
    "    y_train,\n",
    "    batch_size=batch_size,\n",
    "    epochs=epochs,\n",
    "    callbacks=callbacks,\n",
    "    validation_split=0.2,\n",
    "    verbose=1,\n",
    ")"
   ]
  },
  {
   "cell_type": "code",
   "execution_count": 14,
   "id": "490526e1",
   "metadata": {},
   "outputs": [
    {
     "name": "stdout",
     "output_type": "stream",
     "text": [
      "42/42 [==============================] - 1s 19ms/step - loss: 0.1741 - sparse_categorical_accuracy: 0.9364\n",
      "Test accuracy 0.9363636374473572\n",
      "Test loss 0.17412720620632172\n"
     ]
    }
   ],
   "source": [
    "## Evaluate model on test data\n",
    "model = keras.models.load_model(\"best_model.h5\")\n",
    "\n",
    "test_loss, test_acc = model.evaluate(x_test, y_test)\n",
    "\n",
    "print(\"Test accuracy\", test_acc)\n",
    "print(\"Test loss\", test_loss)\n"
   ]
  },
  {
   "cell_type": "code",
   "execution_count": 28,
   "id": "2bb1e0be",
   "metadata": {},
   "outputs": [
    {
     "data": {
      "image/png": "[encoded data removed]",
      "text/plain": [
       "<Figure size 432x288 with 1 Axes>"
      ]
     },
     "metadata": {
      "needs_background": "light"
     },
     "output_type": "display_data"
    }
   ],
   "source": [
    "## Plot the model's training and validation loss\n",
    "metric = \"sparse_categorical_accuracy\"\n",
    "plt.figure()\n",
    "plt.plot(history.history[metric])\n",
    "plt.plot(history.history[\"val_\" + metric])\n",
    "plt.title(\"model \" + metric)\n",
    "plt.ylabel(metric, fontsize=\"large\")\n",
    "plt.xlabel(\"epoch\", fontsize=\"large\")\n",
    "plt.legend([\"train\", \"val\"], loc=\"best\")\n",
    "plt.show()\n",
    "plt.close()\n"
   ]
  },
  {
   "cell_type": "code",
   "execution_count": null,
   "id": "7bdff6ca",
   "metadata": {},
   "outputs": [],
   "source": [
    "##We can see how the training accuracy reaches almost 0.95 after 100 epochs.\n",
    "##However, by observing the validation accuracy we can see how the network still needs\n",
    "##training until it reaches almost 0.97 for both the validation and the training accuracy\n",
    "##after 200 epochs. Beyond the 200th epoch, if we continue on training, the validation\n",
    "##accuracy will start decreasing while the training accuracy will continue on increasing:\n",
    "##the model starts overfitting."
   ]
  }
 ],
 "metadata": {
  "kernelspec": {
   "display_name": "Python 3 (ipykernel)",
   "language": "python",
   "name": "python3"
  },
  "language_info": {
   "codemirror_mode": {
    "name": "ipython",
    "version": 3
   },
   "file_extension": ".py",
   "mimetype": "text/x-python",
   "name": "python",
   "nbconvert_exporter": "python",
   "pygments_lexer": "ipython3",
   "version": "3.9.7"
  }
 },
 "nbformat": 4,
 "nbformat_minor": 5
}
