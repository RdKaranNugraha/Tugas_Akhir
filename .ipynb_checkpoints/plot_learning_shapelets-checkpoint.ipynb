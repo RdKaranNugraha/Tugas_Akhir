{
 "cells": [
  {
   "cell_type": "code",
   "execution_count": 1,
   "metadata": {},
   "outputs": [],
   "source": [
    "%matplotlib inline"
   ]
  },
  {
   "cell_type": "markdown",
   "metadata": {},
   "source": [
    "\n",
    "# Learning Time-Series Shapelets\n",
    "\n",
    "This example illustrates what the LearningShapelets algorithm learns in the\n",
    "training phase.\n",
    "A shapelet is defined as a contiguous subsequence of a time series.\n",
    "The distance between a shapelet and a time series is defined as the minimum\n",
    "of the distances between this shapelet and all the shapelets of identical\n",
    "length extracted from this time series.\n",
    "This estimator consists of two steps: computing the distances between the\n",
    "shapelets and the time series, then computing a logistic regression using\n",
    "these distances as features. This algorithm learns the shapelets as well as\n",
    "the coefficients of the logistic regression.\n",
    "\n",
    "This example highlights two learned shapelets and the distances between the\n",
    "time series and both shapelets. Note that the tolerance parameter is set to a\n",
    "high value so that the algorithm converges early (and the example runs faster).\n",
    "It is implemented as :class:`pyts.classification.LearningShapelets`.\n"
   ]
  },
  {
   "cell_type": "code",
   "execution_count": 2,
   "metadata": {},
   "outputs": [
    {
     "ename": "ModuleNotFoundError",
     "evalue": "No module named 'pyts'",
     "output_type": "error",
     "traceback": [
      "\u001b[1;31m---------------------------------------------------------------------------\u001b[0m",
      "\u001b[1;31mModuleNotFoundError\u001b[0m                       Traceback (most recent call last)",
      "\u001b[1;32m~\\AppData\\Local\\Temp/ipykernel_21396/4265531464.py\u001b[0m in \u001b[0;36m<module>\u001b[1;34m\u001b[0m\n\u001b[0;32m      1\u001b[0m \u001b[1;32mimport\u001b[0m \u001b[0mmatplotlib\u001b[0m\u001b[1;33m.\u001b[0m\u001b[0mpyplot\u001b[0m \u001b[1;32mas\u001b[0m \u001b[0mplt\u001b[0m\u001b[1;33m\u001b[0m\u001b[1;33m\u001b[0m\u001b[0m\n\u001b[0;32m      2\u001b[0m \u001b[1;32mimport\u001b[0m \u001b[0mnumpy\u001b[0m \u001b[1;32mas\u001b[0m \u001b[0mnp\u001b[0m\u001b[1;33m\u001b[0m\u001b[1;33m\u001b[0m\u001b[0m\n\u001b[1;32m----> 3\u001b[1;33m \u001b[1;32mfrom\u001b[0m \u001b[0mpyts\u001b[0m\u001b[1;33m.\u001b[0m\u001b[0mclassification\u001b[0m \u001b[1;32mimport\u001b[0m \u001b[0mLearningShapelets\u001b[0m\u001b[1;33m\u001b[0m\u001b[1;33m\u001b[0m\u001b[0m\n\u001b[0m\u001b[0;32m      4\u001b[0m \u001b[1;32mfrom\u001b[0m \u001b[0mpyts\u001b[0m\u001b[1;33m.\u001b[0m\u001b[0mdatasets\u001b[0m \u001b[1;32mimport\u001b[0m \u001b[0mload_gunpoint\u001b[0m\u001b[1;33m\u001b[0m\u001b[1;33m\u001b[0m\u001b[0m\n\u001b[0;32m      5\u001b[0m \u001b[1;32mfrom\u001b[0m \u001b[0mpyts\u001b[0m\u001b[1;33m.\u001b[0m\u001b[0mutils\u001b[0m \u001b[1;32mimport\u001b[0m \u001b[0mwindowed_view\u001b[0m\u001b[1;33m\u001b[0m\u001b[1;33m\u001b[0m\u001b[0m\n",
      "\u001b[1;31mModuleNotFoundError\u001b[0m: No module named 'pyts'"
     ]
    }
   ],
   "source": [
    "import matplotlib.pyplot as plt\n",
    "import numpy as np\n",
    "from pyts.classification import LearningShapelets\n",
    "from pyts.datasets import load_gunpoint\n",
    "from pyts.utils import windowed_view\n",
    "\n",
    "# Load the data set and fit the classifier\n",
    "X, _, y, _ = load_gunpoint(return_X_y=True)\n",
    "clf = LearningShapelets(random_state=42, tol=0.01)\n",
    "clf.fit(X, y)\n",
    "\n",
    "# Select two shapelets\n",
    "shapelets = np.asarray([clf.shapelets_[0, -9], clf.shapelets_[0, -12]])\n",
    "\n",
    "# Derive the distances between the time series and the shapelets\n",
    "shapelet_size = shapelets.shape[1]\n",
    "X_window = windowed_view(X, window_size=shapelet_size, window_step=1)\n",
    "X_dist = np.mean(\n",
    "    (X_window[:, :, None] - shapelets[None, :]) ** 2, axis=3).min(axis=1)\n",
    "\n",
    "plt.figure(figsize=(14, 4))\n",
    "\n",
    "# Plot the two shapelets\n",
    "plt.subplot(1, 2, 1)\n",
    "plt.plot(shapelets[0])\n",
    "plt.plot(shapelets[1])\n",
    "plt.title('Two learned shapelets', fontsize=14)\n",
    "\n",
    "# Plot the distances\n",
    "plt.subplot(1, 2, 2)\n",
    "for color, label in zip('br', (1, 2)):\n",
    "    plt.scatter(X_dist[y == label, 0], X_dist[y == label, 1],\n",
    "                c=color, label='Class {}'.format(label))\n",
    "plt.title('Distances between the time series and both shapelets',\n",
    "          fontsize=14)\n",
    "plt.legend()\n",
    "plt.show()"
   ]
  },
  {
   "cell_type": "code",
   "execution_count": null,
   "metadata": {},
   "outputs": [],
   "source": []
  }
 ],
 "metadata": {
  "kernelspec": {
   "display_name": "Python 3 (ipykernel)",
   "language": "python",
   "name": "python3"
  },
  "language_info": {
   "codemirror_mode": {
    "name": "ipython",
    "version": 3
   },
   "file_extension": ".py",
   "mimetype": "text/x-python",
   "name": "python",
   "nbconvert_exporter": "python",
   "pygments_lexer": "ipython3",
   "version": "3.9.7"
  }
 },
 "nbformat": 4,
 "nbformat_minor": 1
}
